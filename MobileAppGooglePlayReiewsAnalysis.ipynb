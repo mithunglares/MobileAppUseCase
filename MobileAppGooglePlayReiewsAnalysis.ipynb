{
  "nbformat": 4,
  "nbformat_minor": 0,
  "metadata": {
    "colab": {
      "name": "MobileAppGooglePlayReiewsAnalysis.ipynb",
      "provenance": [],
      "collapsed_sections": [],
      "include_colab_link": true
    },
    "kernelspec": {
      "name": "python3",
      "display_name": "Python 3"
    },
    "language_info": {
      "name": "python"
    }
  },
  "cells": [
    {
      "cell_type": "markdown",
      "metadata": {
        "id": "view-in-github",
        "colab_type": "text"
      },
      "source": [
        "<a href=\"https://colab.research.google.com/github/mithunglares/MobileAppUseCase/blob/main/MobileAppGooglePlayReiewsAnalysis.ipynb\" target=\"_parent\"><img src=\"https://colab.research.google.com/assets/colab-badge.svg\" alt=\"Open In Colab\"/></a>"
      ]
    },
    {
      "cell_type": "markdown",
      "source": [
        "# ***Step 1: Install the Pre-Required Modules***"
      ],
      "metadata": {
        "id": "D6FTGSAqseDo"
      }
    },
    {
      "cell_type": "code",
      "source": [
        "pip install google-play-scraper"
      ],
      "metadata": {
        "colab": {
          "base_uri": "https://localhost:8080/"
        },
        "id": "OiG3gQp2soUc",
        "outputId": "ff881058-1165-462f-fefb-6eac049a0a5e"
      },
      "execution_count": 2,
      "outputs": [
        {
          "output_type": "stream",
          "name": "stdout",
          "text": [
            "Looking in indexes: https://pypi.org/simple, https://us-python.pkg.dev/colab-wheels/public/simple/\n",
            "Collecting google-play-scraper\n",
            "  Downloading google-play-scraper-1.1.0.tar.gz (52 kB)\n",
            "\u001b[K     |████████████████████████████████| 52 kB 1.0 MB/s \n",
            "\u001b[?25hBuilding wheels for collected packages: google-play-scraper\n",
            "  Building wheel for google-play-scraper (setup.py) ... \u001b[?25l\u001b[?25hdone\n",
            "  Created wheel for google-play-scraper: filename=google_play_scraper-1.1.0-py3-none-any.whl size=24585 sha256=5ec99828759ef7a5a1f83e6f8eb2b5789a973d1d92cd4f38a8b9254c10bb8471\n",
            "  Stored in directory: /root/.cache/pip/wheels/f4/fc/13/fc4c30a74f33bdd956248d2a0f022780fce59250a6a2301ad8\n",
            "Successfully built google-play-scraper\n",
            "Installing collected packages: google-play-scraper\n",
            "Successfully installed google-play-scraper-1.1.0\n"
          ]
        }
      ]
    },
    {
      "cell_type": "markdown",
      "source": [
        "# ***Step 2: Import the required Modules***"
      ],
      "metadata": {
        "id": "sBHvOPM-srdO"
      }
    },
    {
      "cell_type": "code",
      "source": [
        "import pandas as pd\n",
        "import numpy as np\n",
        "import matplotlib.pyplot as plt\n",
        "import seaborn as sns\n",
        "from google_play_scraper import app, Sort, reviews_all, reviews"
      ],
      "metadata": {
        "id": "aGFaiId3Ux1l"
      },
      "execution_count": 3,
      "outputs": []
    },
    {
      "cell_type": "markdown",
      "source": [
        "# ***Step 3: Connecting to Google Play Store to pull comments from Users who gave Single * Rating***\n",
        "\n",
        "1. Please note \"com.bigbasket.mobileapp\" is the id configured for Big Basket in this case. \n",
        "   You will need to have the respective Application ID configured based on your interest\n",
        "2. ID can be obtained from Google Play Store, for Eg: \"https://play.google.com/store/apps/details?id=com.bigbasket.mobileapp&hl=en-US\""
      ],
      "metadata": {
        "id": "Dmb49OMqs5Sf"
      }
    },
    {
      "cell_type": "code",
      "source": [
        "result,continuation_token = reviews(\n",
        "    'com.bigbasket.mobileapp',\n",
        "    lang='en', # defaults to 'en'\n",
        "    country='us', # defaults to 'us'\n",
        "    sort=Sort.NEWEST, # defaults to Sort.NEWEST\n",
        "    count=10000,# defaults to 100\n",
        "    filter_score_with=1\n",
        "    )\n",
        "result, _ = reviews(\n",
        "    'com.bigbasket.mobileapp',\n",
        "    continuation_token= continuation_token# defaults to None(load from the beginning)\n",
        ")"
      ],
      "metadata": {
        "id": "1uYAe-8LatMs"
      },
      "execution_count": null,
      "outputs": []
    },
    {
      "cell_type": "markdown",
      "source": [
        "# ***Step 4: Analysing the data, please execute to understand the DataFrame structure***"
      ],
      "metadata": {
        "id": "-UwhzR7jtMfe"
      }
    },
    {
      "cell_type": "code",
      "source": [
        "df = pd.DataFrame.from_records(result)\n",
        "df.info()"
      ],
      "metadata": {
        "colab": {
          "base_uri": "https://localhost:8080/"
        },
        "id": "xfinPCkaScpA",
        "outputId": "7ce1b2b2-b8b1-47a4-d17a-2b8506958f7b"
      },
      "execution_count": null,
      "outputs": [
        {
          "output_type": "stream",
          "name": "stdout",
          "text": [
            "<class 'pandas.core.frame.DataFrame'>\n",
            "RangeIndex: 10000 entries, 0 to 9999\n",
            "Data columns (total 10 columns):\n",
            " #   Column                Non-Null Count  Dtype         \n",
            "---  ------                --------------  -----         \n",
            " 0   reviewId              10000 non-null  object        \n",
            " 1   userName              10000 non-null  object        \n",
            " 2   userImage             10000 non-null  object        \n",
            " 3   content               10000 non-null  object        \n",
            " 4   score                 10000 non-null  int64         \n",
            " 5   thumbsUpCount         10000 non-null  int64         \n",
            " 6   reviewCreatedVersion  7698 non-null   object        \n",
            " 7   at                    10000 non-null  datetime64[ns]\n",
            " 8   replyContent          9477 non-null   object        \n",
            " 9   repliedAt             9477 non-null   datetime64[ns]\n",
            "dtypes: datetime64[ns](2), int64(2), object(6)\n",
            "memory usage: 781.4+ KB\n"
          ]
        }
      ]
    },
    {
      "cell_type": "markdown",
      "source": [
        "## ***Step 5: Processing the Score for last 10,000 records of 1 star rating***"
      ],
      "metadata": {
        "id": "ZWcmZniqglZN"
      }
    },
    {
      "cell_type": "code",
      "source": [
        "#df.info()\n",
        "#df.head()\n",
        "#print(df['score'].value_counts())\n",
        "#df['score'].value_counts().plot(kind='pie', figsize=(8,8), autopct='%1.1f%%')\n",
        "total_count1=len(df)\n",
        "crash_count1=(df[\"content\"].str.count('crash').sum())\n",
        "slow_count1=(df[\"content\"].str.count('slow').sum())\n",
        "not_responding1=(df[\"content\"].str.count('responding').sum())\n",
        "error_count1=(df[\"content\"].str.count('error').sum())\n",
        "payment_count1=(df[\"content\"].str.count('payment').sum())\n",
        "fail_count1=(df[\"content\"].str.count('fail').sum())\n",
        "\n",
        "issues=['Application Crash', 'Application Slowness', 'Application Non-Responsive', 'Application Errors', 'Payment Issues', 'Application Failing']\n",
        "data1=[crash_count1,slow_count1,not_responding1,error_count1,payment_count1,fail_count1]\n",
        "Sum1=sum(data1)\n",
        "\n",
        "\n",
        "others1=total_count1-Sum1\n",
        "print(\"Analysis For Rating of 1 Star\")\n",
        "print(\"crash:{}\".format(crash_count1))\n",
        "print(\"slowness:{}\".format(slow_count1))\n",
        "print(\"not responding:{}\".format(not_responding1))\n",
        "print(\"errors:{}\".format(error_count1))\n",
        "print(\"payment issues:{}\".format(payment_count1))\n",
        "print(\"failed transactions:{}\".format(fail_count1))\n",
        "print(\"Total Count={} and Other Issues:{}\".format(total_count1,others1))\n",
        "\n",
        "\n",
        "\n",
        "\n",
        "fig = plt.figure(figsize =(10, 7))\n",
        "plt.pie(data1, labels = issues)\n",
        "plt.show()"
      ],
      "metadata": {
        "colab": {
          "base_uri": "https://localhost:8080/",
          "height": 557
        },
        "id": "fC9BdtI8TMK1",
        "outputId": "d107ade0-516b-430c-8e19-5bc6719331df"
      },
      "execution_count": null,
      "outputs": [
        {
          "output_type": "stream",
          "name": "stdout",
          "text": [
            "Analysis For Rating of 1 Star\n",
            "crash:88\n",
            "slowness:33\n",
            "not responding:60\n",
            "errors:128\n",
            "payment issues:590\n",
            "failed transactions:195\n",
            "Total Count=10000 and Other Issues:8906\n"
          ]
        },
        {
          "output_type": "display_data",
          "data": {
            "text/plain": [
              "<Figure size 720x504 with 1 Axes>"
            ],
            "image/png": "[encoded data removed]"
          },
          "metadata": {}
        }
      ]
    },
    {
      "cell_type": "code",
      "source": [
        "#for cnt, i in enumerate(result):\n",
        "#  print (\"{} : {} : {} : {}\".format(cnt,i['score'],i['content'],i['at']))\n"
      ],
      "metadata": {
        "id": "qF4yhJqBXshJ"
      },
      "execution_count": 1,
      "outputs": []
    },
    {
      "cell_type": "markdown",
      "source": [
        "## ***Step 6: Processing the score for last 5,000 records of 2 star rating***"
      ],
      "metadata": {
        "id": "2eQnQ7m3rZwn"
      }
    },
    {
      "cell_type": "code",
      "source": [
        "result2,continuation_token2 = reviews(\n",
        "    'com.bigbasket.mobileapp',\n",
        "    lang='en', # defaults to 'en'\n",
        "    country='us', # defaults to 'us'\n",
        "    sort=Sort.NEWEST, # defaults to Sort.NEWEST\n",
        "    count=5000,# defaults to 100\n",
        "    filter_score_with=2\n",
        "    )\n",
        "result2, _ = reviews(\n",
        "    'com.bigbasket.mobileapp',\n",
        "    continuation_token=continuation_token2 # defaults to None(load from the beginning)\n",
        ")\n",
        "\n",
        "df2 = pd.DataFrame.from_records(result2)"
      ],
      "metadata": {
        "id": "GiE0aWXCTTTV"
      },
      "execution_count": null,
      "outputs": []
    },
    {
      "cell_type": "code",
      "source": [
        "#df2.head()\n",
        "#print(df2.info())\n"
      ],
      "metadata": {
        "id": "yna8BA_Qjugc"
      },
      "execution_count": null,
      "outputs": []
    },
    {
      "cell_type": "code",
      "source": [
        "total_count2=len(df2)\n",
        "crash_count2=(df2[\"content\"].str.count('crash').sum())\n",
        "slow_count2=(df2[\"content\"].str.count('slow').sum())\n",
        "not_responding2=(df2[\"content\"].str.count('responding').sum())\n",
        "error_count2=(df2[\"content\"].str.count('error').sum())\n",
        "payment_count2=(df2[\"content\"].str.count('payment').sum())\n",
        "#payment_count2=0\n",
        "fail_count2=(df2[\"content\"].str.count('fail').sum())\n",
        "\n",
        "data2=[crash_count2,slow_count2,not_responding2,error_count2,payment_count2,fail_count2]\n",
        "\n",
        "Sum2=sum(data2)\n",
        "others2=total_count2-Sum2\n",
        "print(\"Analysis For Rating of 2 Star\")\n",
        "print(\"crash:{}\".format(crash_count2))\n",
        "print(\"slowness:{}\".format(slow_count2))\n",
        "print(\"not responding:{}\".format(not_responding2))\n",
        "print(\"errors:{}\".format(error_count2))\n",
        "print(\"payment issues:{}\".format(payment_count2))\n",
        "print(\"failed transactions:{}\".format(fail_count2))\n",
        "print(\"Total Count={} and Other Issues:{}\".format(total_count2,others2))\n",
        "fig2 = plt.figure(figsize =(10, 7))\n",
        "plt.pie(data2, labels = issues)\n",
        " \n",
        "# show plot\n",
        "plt.show()"
      ],
      "metadata": {
        "colab": {
          "base_uri": "https://localhost:8080/",
          "height": 557
        },
        "id": "lXMtM3PjkGSK",
        "outputId": "43a3d057-4888-4ab5-9c66-d11a59172340"
      },
      "execution_count": null,
      "outputs": [
        {
          "output_type": "stream",
          "name": "stdout",
          "text": [
            "Analysis For Rating of 2 Star\n",
            "crash:7.0\n",
            "slowness:5.0\n",
            "not responding:2.0\n",
            "errors:19.0\n",
            "payment issues:71.0\n",
            "failed transactions:26.0\n",
            "Total Count=886 and Other Issues:756.0\n"
          ]
        },
        {
          "output_type": "display_data",
          "data": {
            "text/plain": [
              "<Figure size 720x504 with 1 Axes>"
            ],
            "image/png": "[encoded data removed]"
          },
          "metadata": {}
        }
      ]
    },
    {
      "cell_type": "code",
      "source": [
        "#pip install azure-ai-textanalytics"
      ],
      "metadata": {
        "id": "0mUPfeakhaIa"
      },
      "execution_count": null,
      "outputs": []
    },
    {
      "cell_type": "markdown",
      "source": [
        "### ***SENTIMENT ANALYSIS***"
      ],
      "metadata": {
        "id": "G15l0dtogw5y"
      }
    },
    {
      "cell_type": "code",
      "source": [
        "#import azure \n",
        "#from azure.ai.textanalytics import TextAnalyticsClient\n",
        "#from azure.core.credentials import AzureKeyCredential"
      ],
      "metadata": {
        "id": "aE2tEqgCXm12"
      },
      "execution_count": null,
      "outputs": []
    },
    {
      "cell_type": "markdown",
      "source": [
        "###SIMPLE SCRIPT TO DOWNLOAD REVIEWS FROM GOOGLE PLAY FOR ANY APPLICATION"
      ],
      "metadata": {
        "id": "ix_48dsn6lCM"
      }
    }
  ]
}